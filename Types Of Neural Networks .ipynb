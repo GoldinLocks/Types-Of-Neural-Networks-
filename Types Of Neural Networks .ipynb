{
 "cells": [
  {
   "cell_type": "markdown",
   "metadata": {},
   "source": [
    "# Types Of Neural Networks\n",
    "\n",
    "## Multilayer Perceptrons\n",
    "\n",
    "<img src=\"https://missinglink.ai/wp-content/uploads/2018/11/multilayer-perceptron.png\" alt=\"Alt text that describes the graphic\" title=\"Title text\" />\n",
    "\n",
    "Multilayer Perceptrons, or MLPs for short, are comprised of one or more layers of neurons. Data is fed to the input layer, there may be one or more hidden layers providing levels of abstraction, and predictions are made on the output layer.\n",
    "\n",
    "### Types of problems MLPs solve:\n",
    "\n",
    "- MLPs are suitable for classification prediction problems where inputs are assigned a class or label.\n",
    "\n",
    "- MLPs are also suitable for regression prediction problems where a real-valued quantity is predicted given a set of inputs. Data is often provided in a tabular format, such as you would see in a CSV file or a spreadsheet.\n",
    "\n",
    "<img src=\"https://camo.githubusercontent.com/a9afdb1af22b3ba06600c7a322f1b483d384c831/68747470733a2f2f7261772e67697468756275736572636f6e74656e742e636f6d2f6a656666686561746f6e2f7438315f3535385f646565705f6c6561726e696e672f6d61737465722f696d616765732f636c6173735f325f616e6e5f636c6173735f7265672e706e67\" alt=\"Alt text that describes the graphic\" title=\"Title text\" />\n",
    "\n",
    "- They are very flexible and can be used generally to learn a mapping from inputs to outputs.\n",
    "\n",
    "\n",
    "\n",
    "- This flexibility allows them to be applied to other types of data. For example, the pixels of an image can be reduced down to a 1D array of data and fed into a MLP. The words of a document can also be reduced to a 1D array of data and fed to a MLP. Even the lag observations for a time series prediction problem can be reduced to a1D array of data and fed to a MLP.\n",
    "\n",
    "\n",
    "\n",
    "- If your data is in a form other than a tabular dataset, such as an image, document, or time series, you can at least test a MLP on your problem. The results can be used as a baseline point of comparison to confirm that other models that may be better suited to solve the problem.\n",
    "\n",
    "**Try MLPs On:**\n",
    "\n",
    "- Image data\n",
    "- Text Data\n",
    "- Time series data\n",
    "- Other types of data"
   ]
  },
  {
   "cell_type": "markdown",
   "metadata": {},
   "source": [
    "## Convolutional Neural Networks\n",
    "\n",
    "<img src=\"https://i0.wp.com/vinodsblog.com/wp-content/uploads/2018/10/CNN-2.png?resize=1300%2C479&ssl=1\" alt=\"Alt text that describes the graphic\" title=\"Title text\" />\n",
    "\n",
    "Convolutional Neural Networks, or CNNs, were designed to map image data to an output variable.\n",
    "\n",
    "They have proven so effective that they are the go-to method for any type of prediction problem involving image data as an input. Convolutional Neural Networks expect and preserve the spatial relationship between pixels by learning internal feature representations using small squares of input data. Feature are learned and used across the whole image, allowing for the objects in the images to be shifted or translated in the scene and still detectable by the network.\n",
    "\n",
    "### Types of problems CNNs solve:\n",
    "\n",
    "- Image data\n",
    "- Classification prediction problems\n",
    "- Regression prediction problems\n",
    "- More generally, CNNs work well with data that has a spatial relationship. A spatial relation specifies how some object is located in space in relation to some reference object.\n",
    "\n",
    "The CNN input is traditionally 2D, a field or matrix, but can also be changed to be 1D, allowing it to develop an internal representation of a one-dimensional sequence.\n",
    "\n",
    "This allows the CNN to be used more generally on other types of data that has a spatial relationship. For example, there is an order relationship between words in a document of text. There is an ordered relationship in the time steps of a time series.\n",
    "\n",
    "Although not specifically developed for non-image data, CNNs achieve state-of-the-art results on problems such as document classification used in sentiment analysis and related problems.\n",
    "\n",
    "**Try CNNs On:**\n",
    "\n",
    "- Images\n",
    "- Text data\n",
    "- Time series data\n",
    "- Sequence input data"
   ]
  },
  {
   "cell_type": "markdown",
   "metadata": {},
   "source": [
    "## Recurrent Neural Networks\n",
    "\n",
    "<img src=\"https://ailabpagecom.files.wordpress.com/2019/01/recurrent-neural-networks.png\" alt=\"Alt text that describes the graphic\" title=\"Title text\" />\n",
    "\n",
    "Recurrent Neural Networks, or RNNs, were designed to work with sequence prediction problems. Sequence prediction is a problem that involves using historical sequence information to predict the next value or values in the sequence. The sequence may be symbols like letters in a sentence or real values like those in a time series of prices. \n",
    "\n",
    "Some examples of sequence prediction problems include:\n",
    "\n",
    "- Sequence to sequence: predict stock prices based on series of historical data\n",
    "- Sequence to vector: words in a sentence to sentiment\n",
    "- Vector to sequence: create captions from an image\n",
    "- Encoder -> Decoder\n",
    "    - Sequence -> vector -> sequence: machine translation\n",
    "\n",
    "Recurrent neural networks were traditionally difficult to train. The Long Short-Term Memory, or LSTM, network is perhaps the most successful RNN because it overcomes the problems of training a recurrent network and in turn has been used on a wide range of applications.\n",
    "\n",
    "RNNs in general and LSTMs in particular have received the most success when working with sequences of words and paragraphs, generally called natural language processing.\n",
    "\n",
    "This includes both sequences of text and sequences of spoken language represented as a time series. They are also used as generative models that require a sequence output, not only with text, but on applications such as generating handwriting.\n",
    "\n",
    "### Types of problems RNNs Solve:\n",
    "\n",
    "- Text data\n",
    "- Speech data\n",
    "- Classification prediction problems\n",
    "- Regression prediction problems\n",
    "- Generative models\n",
    "\n",
    "Recurrent neural networks are not appropriate for tabular datasets as you would see in a CSV file or spreadsheet. They are also not appropriate for image data input.\n",
    "\n",
    "**Don’t Use RNNs For:**\n",
    "\n",
    "- Tabular data\n",
    "- Image data\n",
    "\n",
    "RNNs and LSTMs have been tested on time series forecasting problems, but the results have been poor, to say the least. Autoregression methods, even linear methods often perform much better. LSTMs are often outperformed by simple MLPs applied on the same data."
   ]
  },
  {
   "cell_type": "code",
   "execution_count": null,
   "metadata": {},
   "outputs": [],
   "source": []
  }
 ],
 "metadata": {
  "hide_input": false,
  "kernelspec": {
   "display_name": "Python 3",
   "language": "python",
   "name": "python3"
  },
  "language_info": {
   "codemirror_mode": {
    "name": "ipython",
    "version": 3
   },
   "file_extension": ".py",
   "mimetype": "text/x-python",
   "name": "python",
   "nbconvert_exporter": "python",
   "pygments_lexer": "ipython3",
   "version": "3.6.9"
  },
  "toc": {
   "base_numbering": 1,
   "nav_menu": {},
   "number_sections": true,
   "sideBar": true,
   "skip_h1_title": false,
   "title_cell": "Table of Contents",
   "title_sidebar": "Contents",
   "toc_cell": false,
   "toc_position": {},
   "toc_section_display": true,
   "toc_window_display": false
  },
  "varInspector": {
   "cols": {
    "lenName": 16,
    "lenType": 16,
    "lenVar": 40
   },
   "kernels_config": {
    "python": {
     "delete_cmd_postfix": "",
     "delete_cmd_prefix": "del ",
     "library": "var_list.py",
     "varRefreshCmd": "print(var_dic_list())"
    },
    "r": {
     "delete_cmd_postfix": ") ",
     "delete_cmd_prefix": "rm(",
     "library": "var_list.r",
     "varRefreshCmd": "cat(var_dic_list()) "
    }
   },
   "types_to_exclude": [
    "module",
    "function",
    "builtin_function_or_method",
    "instance",
    "_Feature"
   ],
   "window_display": false
  }
 },
 "nbformat": 4,
 "nbformat_minor": 2
}
